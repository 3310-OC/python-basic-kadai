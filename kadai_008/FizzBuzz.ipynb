{
  "nbformat": 4,
  "nbformat_minor": 0,
  "metadata": {
    "colab": {
      "provenance": []
    },
    "kernelspec": {
      "name": "python3",
      "display_name": "Python 3"
    },
    "language_info": {
      "name": "python"
    }
  },
  "cells": [
    {
      "cell_type": "code",
      "source": [
        "import random\n",
        "\n",
        "var = random.randint(1,15)\n",
        "\n",
        "if var % 3 == 0:\n",
        "    print(\"Fizz\")\n",
        "elif var % 5 == 0:\n",
        "    print(\"Buzz\")\n",
        "elif var % 15 == 0:\n",
        "    print(\"FizzBuzz\")\n",
        "else:\n",
        "    print(var)"
      ],
      "metadata": {
        "colab": {
          "base_uri": "https://localhost:8080/"
        },
        "id": "yDbklO7SHJ0l",
        "outputId": "e0621a4d-5d17-40de-9f47-62cca79ce043"
      },
      "execution_count": 30,
      "outputs": [
        {
          "output_type": "stream",
          "name": "stdout",
          "text": [
            "Fizz\n"
          ]
        }
      ]
    }
  ]
}