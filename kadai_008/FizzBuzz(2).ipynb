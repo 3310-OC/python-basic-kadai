{
  "nbformat": 4,
  "nbformat_minor": 0,
  "metadata": {
    "colab": {
      "provenance": []
    },
    "kernelspec": {
      "name": "python3",
      "display_name": "Python 3"
    },
    "language_info": {
      "name": "python"
    }
  },
  "cells": [
    {
      "cell_type": "code",
      "source": [
        "import random\n",
        "\n",
        "var = random.randint(15, 20)\n",
        "print(var)\n",
        "if (var % 5 == 0 and var % 3 == 0):\n",
        "    print(\"FizzBuzz\")\n",
        "elif (var % 5 == 0):\n",
        "    print(\"Buzz\")\n",
        "elif (var % 3 == 0):\n",
        "    print(\"Fizz\")\n",
        "else:\n",
        "    print(var)"
      ],
      "metadata": {
        "colab": {
          "base_uri": "https://localhost:8080/"
        },
        "id": "yDbklO7SHJ0l",
        "outputId": "1ec5683f-cd63-4407-d8c9-c33ab02c279a"
      },
      "execution_count": 134,
      "outputs": [
        {
          "output_type": "stream",
          "name": "stdout",
          "text": [
            "15\n",
            "FizzBuzz\n"
          ]
        }
      ]
    }
  ]
}