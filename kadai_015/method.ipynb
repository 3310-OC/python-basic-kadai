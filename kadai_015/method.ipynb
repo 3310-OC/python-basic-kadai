{
  "nbformat": 4,
  "nbformat_minor": 0,
  "metadata": {
    "colab": {
      "provenance": []
    },
    "kernelspec": {
      "name": "python3",
      "display_name": "Python 3"
    },
    "language_info": {
      "name": "python"
    }
  },
  "cells": [
    {
      "cell_type": "code",
      "source": [
        "class Human:\n",
        "  def __init__(self, name, age):\n",
        "        self.name = name\n",
        "        self.age = age\n",
        "\n",
        "human = Human(\"Timmy\", 36)\n",
        "\n",
        "print(human.name)\n",
        "print(human.age)"
      ],
      "metadata": {
        "colab": {
          "base_uri": "https://localhost:8080/"
        },
        "id": "oy7EOV3vDObg",
        "outputId": "90cd7008-f5b3-4eef-a644-fa7f5fd5aef2"
      },
      "execution_count": 1,
      "outputs": [
        {
          "output_type": "stream",
          "name": "stdout",
          "text": [
            "Timmy\n",
            "36\n"
          ]
        }
      ]
    }
  ]
}