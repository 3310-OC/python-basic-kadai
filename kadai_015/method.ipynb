{
  "nbformat": 4,
  "nbformat_minor": 0,
  "metadata": {
    "colab": {
      "provenance": []
    },
    "kernelspec": {
      "name": "python3",
      "display_name": "Python 3"
    },
    "language_info": {
      "name": "python"
    }
  },
  "cells": [
    {
      "cell_type": "code",
      "source": [
        "class Human:\n",
        "  def __init__(self, name, age):\n",
        "        self.name = name\n",
        "        self.age = age\n",
        "\n",
        "  def printinfo(self):\n",
        "      print(f\"Name {self.name}, Age {self.age}\")\n",
        "\n",
        "\n",
        "human = Human(\"Timmy\", 36)\n",
        "\n",
        "human.printinfo()"
      ],
      "metadata": {
        "colab": {
          "base_uri": "https://localhost:8080/"
        },
        "id": "oy7EOV3vDObg",
        "outputId": "42a5c223-64d3-47a4-c618-6b8f963f94c1"
      },
      "execution_count": 15,
      "outputs": [
        {
          "output_type": "stream",
          "name": "stdout",
          "text": [
            "Name Timmy, Age 36\n"
          ]
        }
      ]
    }
  ]
}