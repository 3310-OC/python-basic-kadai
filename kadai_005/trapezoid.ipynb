{
  "nbformat": 4,
  "nbformat_minor": 0,
  "metadata": {
    "colab": {
      "provenance": [],
      "toc_visible": true
    },
    "kernelspec": {
      "name": "python3",
      "display_name": "Python 3"
    },
    "language_info": {
      "name": "python"
    }
  },
  "cells": [
    {
      "cell_type": "code",
      "execution_count": null,
      "metadata": {
        "colab": {
          "base_uri": "https://localhost:8080/"
        },
        "id": "X1ywDmVaRDuX",
        "outputId": "cb6b4666-7cc9-45d1-b2fd-6c619b38a969"
      },
      "outputs": [
        {
          "output_type": "stream",
          "name": "stdout",
          "text": [
            "3\n"
          ]
        }
      ],
      "source": [
        "print(1+2)"
      ]
    },
    {
      "cell_type": "code",
      "source": [
        "top = 10\n",
        "bottom = 20\n",
        "height = 5\n",
        "\n",
        "trapezoid = (top + bottom) * height / 2\n",
        "print(str(trapezoid)+ \"㎠\")"
      ],
      "metadata": {
        "id": "2h3VDkH_RUc8",
        "colab": {
          "base_uri": "https://localhost:8080/"
        },
        "outputId": "24097672-444e-4da8-86ff-33a2cb78c994"
      },
      "execution_count": 10,
      "outputs": [
        {
          "output_type": "stream",
          "name": "stdout",
          "text": [
            "75.0㎠\n"
          ]
        }
      ]
    }
  ]
}