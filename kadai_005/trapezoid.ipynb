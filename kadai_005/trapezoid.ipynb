{
  "nbformat": 4,
  "nbformat_minor": 0,
  "metadata": {
    "colab": {
      "provenance": [],
      "toc_visible": true
    },
    "kernelspec": {
      "name": "python3",
      "display_name": "Python 3"
    },
    "language_info": {
      "name": "python"
    }
  },
  "cells": [
    {
      "cell_type": "code",
      "source": [
        "top = 10\n",
        "bottom = 20\n",
        "height = 5\n",
        "\n",
        "trapezoid = (top + bottom) * height / 2\n",
        "print(str(trapezoid)+ \"㎠\")"
      ],
      "metadata": {
        "id": "2h3VDkH_RUc8",
        "colab": {
          "base_uri": "https://localhost:8080/"
        },
        "outputId": "24097672-444e-4da8-86ff-33a2cb78c994"
      },
      "execution_count": 10,
      "outputs": [
        {
          "output_type": "stream",
          "name": "stdout",
          "text": [
            "75.0㎠\n"
          ]
        }
      ]
    }
  ]
}