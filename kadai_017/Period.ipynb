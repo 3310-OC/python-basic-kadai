{
  "nbformat": 4,
  "nbformat_minor": 0,
  "metadata": {
    "colab": {
      "provenance": []
    },
    "kernelspec": {
      "name": "python3",
      "display_name": "Python 3"
    },
    "language_info": {
      "name": "python"
    }
  },
  "cells": [
    {
      "cell_type": "code",
      "source": [
        "class Human:\n",
        "  def __init__(self, name, age):\n",
        "        self.name = name\n",
        "        self.age = age\n",
        "\n",
        "  def printinfo(self):\n",
        "      print(f\"Name {self.name}, Age {self.age}\")\n",
        "\n",
        "\n",
        "human = Human(\"Timmy\", 36)\n",
        "\n",
        "human.printinfo()"
      ],
      "metadata": {
        "colab": {
          "base_uri": "https://localhost:8080/"
        },
        "id": "oy7EOV3vDObg",
        "outputId": "42a5c223-64d3-47a4-c618-6b8f963f94c1"
      },
      "execution_count": 15,
      "outputs": [
        {
          "output_type": "stream",
          "name": "stdout",
          "text": [
            "Name Timmy, Age 36\n"
          ]
        }
      ]
    },
    {
      "cell_type": "code",
      "source": [
        "class Human:\n",
        "  def __init__(self, name, age):\n",
        "        self.name = name\n",
        "        self.age = age\n",
        "\n",
        "  def check_adult(self):\n",
        "    if self.age >= 20:\n",
        "      print(f\"{self.name}は\" + f\"{self.age}歳で大人です\")\n",
        "    else:\n",
        "      print(f\"{self.name}は\" + f\"{self.age}歳で未成年です\")\n",
        "\n",
        "human1 = Human(\"Takaragi\", 45)\n",
        "human2 = Human(\"Timmy\", 36)\n",
        "human3 = Human(\"Shioe\", 15)\n",
        "\n",
        "human1.check_adult()\n",
        "human2.check_adult()\n",
        "human3.check_adult()"
      ],
      "metadata": {
        "colab": {
          "base_uri": "https://localhost:8080/"
        },
        "id": "cIIrV1fXrvX5",
        "outputId": "f1c6e70c-7674-481f-dfe5-be892973ec29"
      },
      "execution_count": 22,
      "outputs": [
        {
          "output_type": "stream",
          "name": "stdout",
          "text": [
            "Takaragiは45歳で大人です\n",
            "Timmyは36歳で大人です\n",
            "Shioeは15歳で未成年です\n"
          ]
        }
      ]
    }
  ]
}