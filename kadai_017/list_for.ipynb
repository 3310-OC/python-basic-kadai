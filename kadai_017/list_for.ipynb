{
  "nbformat": 4,
  "nbformat_minor": 0,
  "metadata": {
    "colab": {
      "provenance": []
    },
    "kernelspec": {
      "name": "python3",
      "display_name": "Python 3"
    },
    "language_info": {
      "name": "python"
    }
  },
  "cells": [
    {
      "cell_type": "code",
      "source": [
        "class Human:\n",
        "  def __init__(self, name, age):\n",
        "        self.name = name\n",
        "        self.age = age\n",
        "\n",
        "  def printinfo(self):\n",
        "      print(f\"Name {self.name}, Age {self.age}\")\n",
        "\n",
        "\n",
        "human = Human(\"Timmy\", 36)\n",
        "\n",
        "human.printinfo()"
      ],
      "metadata": {
        "colab": {
          "base_uri": "https://localhost:8080/"
        },
        "id": "oy7EOV3vDObg",
        "outputId": "42a5c223-64d3-47a4-c618-6b8f963f94c1"
      },
      "execution_count": 15,
      "outputs": [
        {
          "output_type": "stream",
          "name": "stdout",
          "text": [
            "Name Timmy, Age 36\n"
          ]
        }
      ]
    },
    {
      "cell_type": "code",
      "source": [
        "class Human:\n",
        "  def __init__(self, name, age):\n",
        "        self.name = name\n",
        "        self.age = age\n",
        "\n",
        "  def check_adult(self):\n",
        "    if self.age >= 20:\n",
        "      print(f\"{self.name}は\" + f\"{self.age}歳で大人です\")\n",
        "    else:\n",
        "      print(f\"{self.name}は\" + f\"{self.age}歳で未成年です\")\n",
        "\n",
        "human1 = Human(\"Takaragi\", 45)\n",
        "human2 = Human(\"Timmy\", 36)\n",
        "human3 = Human(\"Shioe\", 15)\n",
        "\n",
        "human_list = [human1, human2, human3]\n",
        "\n",
        "for human in human_list:\n",
        "  human.check_adult()"
      ],
      "metadata": {
        "colab": {
          "base_uri": "https://localhost:8080/"
        },
        "id": "cIIrV1fXrvX5",
        "outputId": "b6c686fd-517c-4deb-c02a-d65df0bda4f2"
      },
      "execution_count": 24,
      "outputs": [
        {
          "output_type": "stream",
          "name": "stdout",
          "text": [
            "Takaragiは45歳で大人です\n",
            "Timmyは36歳で大人です\n",
            "Shioeは15歳で未成年です\n"
          ]
        }
      ]
    }
  ]
}